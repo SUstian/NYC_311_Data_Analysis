{
 "cells": [
  {
   "cell_type": "markdown",
   "metadata": {},
   "source": [
    "# An Exploration of NYC 311 Data"
   ]
  },
  {
   "cell_type": "markdown",
   "metadata": {},
   "source": [
    "In this project, we will be exploring data on 311 service requests in New York City. The 311 number is one that constituents can call to request city services. It is intended to be an alternative to the 911 number, where constituents report emergencies.  \n",
    "\n",
    "This analysis will focus on requests from the year 2015 that were assigned to the New York Police Department. We will explore this data for trends that could be used by the city to help improve their services. We will try to answer questions such as:\n",
    "* Are there trends by season? By month? By hour of the day?\n",
    "* What about geographic trends (i.e. trends by borough)?\n",
    "* How long, on average, does it take to close a request? Does that vary by borough? By complaint type?\n",
    "* Are there any trends with how these service requests are resolved?"
   ]
  },
  {
   "cell_type": "markdown",
   "metadata": {},
   "source": [
    "The source data for this project can be found on [Kaggle](https://www.kaggle.com/sherinclaudia/nyc311-2010#311_Service_Requests_from_2010_to_Present.csv). A more complete dataset covering 2010 to the present, and including over 28 million rows, is available on [New York City's open data website](https://data.cityofnewyork.us/Social-Services/311-Service-Requests-from-2010-to-Present/erm2-nwe9)."
   ]
  },
  {
   "cell_type": "markdown",
   "metadata": {},
   "source": [
    "## Read In and Explore the Data"
   ]
  },
  {
   "cell_type": "code",
   "execution_count": 1,
   "metadata": {
    "collapsed": true
   },
   "outputs": [],
   "source": [
    "import pandas as pd"
   ]
  },
  {
   "cell_type": "code",
   "execution_count": 2,
   "metadata": {
    "collapsed": false
   },
   "outputs": [
    {
     "name": "stderr",
     "output_type": "stream",
     "text": [
      "/Library/Python/2.7/site-packages/IPython/core/interactiveshell.py:2902: DtypeWarning: Columns (48,49) have mixed types. Specify dtype option on import or set low_memory=False.\n",
      "  interactivity=interactivity, compiler=compiler, result=result)\n"
     ]
    }
   ],
   "source": [
    "requests = pd.read_csv('/Users/alexustian/stacey_learning/311_Service_Requests.csv')"
   ]
  },
  {
   "cell_type": "code",
   "execution_count": 3,
   "metadata": {
    "collapsed": false
   },
   "outputs": [
    {
     "data": {
      "text/plain": [
       "(364558, 53)"
      ]
     },
     "execution_count": 3,
     "metadata": {},
     "output_type": "execute_result"
    }
   ],
   "source": [
    "requests.shape"
   ]
  },
  {
   "cell_type": "code",
   "execution_count": 4,
   "metadata": {
    "collapsed": false
   },
   "outputs": [
    {
     "data": {
      "text/html": [
       "<div>\n",
       "<table border=\"1\" class=\"dataframe\">\n",
       "  <thead>\n",
       "    <tr style=\"text-align: right;\">\n",
       "      <th></th>\n",
       "      <th>Unique Key</th>\n",
       "      <th>Created Date</th>\n",
       "      <th>Closed Date</th>\n",
       "      <th>Agency</th>\n",
       "      <th>Agency Name</th>\n",
       "      <th>Complaint Type</th>\n",
       "      <th>Descriptor</th>\n",
       "      <th>Location Type</th>\n",
       "      <th>Incident Zip</th>\n",
       "      <th>Incident Address</th>\n",
       "      <th>...</th>\n",
       "      <th>Bridge Highway Name</th>\n",
       "      <th>Bridge Highway Direction</th>\n",
       "      <th>Road Ramp</th>\n",
       "      <th>Bridge Highway Segment</th>\n",
       "      <th>Garage Lot Name</th>\n",
       "      <th>Ferry Direction</th>\n",
       "      <th>Ferry Terminal Name</th>\n",
       "      <th>Latitude</th>\n",
       "      <th>Longitude</th>\n",
       "      <th>Location</th>\n",
       "    </tr>\n",
       "  </thead>\n",
       "  <tbody>\n",
       "    <tr>\n",
       "      <th>0</th>\n",
       "      <td>32310363</td>\n",
       "      <td>12/31/2015 11:59:45 PM</td>\n",
       "      <td>01/01/2016 12:55:15 AM</td>\n",
       "      <td>NYPD</td>\n",
       "      <td>New York City Police Department</td>\n",
       "      <td>Noise - Street/Sidewalk</td>\n",
       "      <td>Loud Music/Party</td>\n",
       "      <td>Street/Sidewalk</td>\n",
       "      <td>10034</td>\n",
       "      <td>71 VERMILYEA AVENUE</td>\n",
       "      <td>...</td>\n",
       "      <td>NaN</td>\n",
       "      <td>NaN</td>\n",
       "      <td>NaN</td>\n",
       "      <td>NaN</td>\n",
       "      <td>NaN</td>\n",
       "      <td>NaN</td>\n",
       "      <td>NaN</td>\n",
       "      <td>40.865682</td>\n",
       "      <td>-73.923501</td>\n",
       "      <td>(40.86568153633767, -73.92350095571744)</td>\n",
       "    </tr>\n",
       "    <tr>\n",
       "      <th>1</th>\n",
       "      <td>32309934</td>\n",
       "      <td>12/31/2015 11:59:44 PM</td>\n",
       "      <td>01/01/2016 01:26:57 AM</td>\n",
       "      <td>NYPD</td>\n",
       "      <td>New York City Police Department</td>\n",
       "      <td>Blocked Driveway</td>\n",
       "      <td>No Access</td>\n",
       "      <td>Street/Sidewalk</td>\n",
       "      <td>11105</td>\n",
       "      <td>27-07 23 AVENUE</td>\n",
       "      <td>...</td>\n",
       "      <td>NaN</td>\n",
       "      <td>NaN</td>\n",
       "      <td>NaN</td>\n",
       "      <td>NaN</td>\n",
       "      <td>NaN</td>\n",
       "      <td>NaN</td>\n",
       "      <td>NaN</td>\n",
       "      <td>40.775945</td>\n",
       "      <td>-73.915094</td>\n",
       "      <td>(40.775945312321085, -73.91509393898605)</td>\n",
       "    </tr>\n",
       "    <tr>\n",
       "      <th>2</th>\n",
       "      <td>32309159</td>\n",
       "      <td>12/31/2015 11:59:29 PM</td>\n",
       "      <td>01/01/2016 04:51:03 AM</td>\n",
       "      <td>NYPD</td>\n",
       "      <td>New York City Police Department</td>\n",
       "      <td>Blocked Driveway</td>\n",
       "      <td>No Access</td>\n",
       "      <td>Street/Sidewalk</td>\n",
       "      <td>10458</td>\n",
       "      <td>2897 VALENTINE AVENUE</td>\n",
       "      <td>...</td>\n",
       "      <td>NaN</td>\n",
       "      <td>NaN</td>\n",
       "      <td>NaN</td>\n",
       "      <td>NaN</td>\n",
       "      <td>NaN</td>\n",
       "      <td>NaN</td>\n",
       "      <td>NaN</td>\n",
       "      <td>40.870325</td>\n",
       "      <td>-73.888525</td>\n",
       "      <td>(40.870324522111424, -73.88852464418646)</td>\n",
       "    </tr>\n",
       "    <tr>\n",
       "      <th>3</th>\n",
       "      <td>32305098</td>\n",
       "      <td>12/31/2015 11:57:46 PM</td>\n",
       "      <td>01/01/2016 07:43:13 AM</td>\n",
       "      <td>NYPD</td>\n",
       "      <td>New York City Police Department</td>\n",
       "      <td>Illegal Parking</td>\n",
       "      <td>Commercial Overnight Parking</td>\n",
       "      <td>Street/Sidewalk</td>\n",
       "      <td>10461</td>\n",
       "      <td>2940 BAISLEY AVENUE</td>\n",
       "      <td>...</td>\n",
       "      <td>NaN</td>\n",
       "      <td>NaN</td>\n",
       "      <td>NaN</td>\n",
       "      <td>NaN</td>\n",
       "      <td>NaN</td>\n",
       "      <td>NaN</td>\n",
       "      <td>NaN</td>\n",
       "      <td>40.835994</td>\n",
       "      <td>-73.828379</td>\n",
       "      <td>(40.83599404683083, -73.82837939584206)</td>\n",
       "    </tr>\n",
       "    <tr>\n",
       "      <th>4</th>\n",
       "      <td>32306529</td>\n",
       "      <td>12/31/2015 11:56:58 PM</td>\n",
       "      <td>01/01/2016 03:24:42 AM</td>\n",
       "      <td>NYPD</td>\n",
       "      <td>New York City Police Department</td>\n",
       "      <td>Illegal Parking</td>\n",
       "      <td>Blocked Sidewalk</td>\n",
       "      <td>Street/Sidewalk</td>\n",
       "      <td>11373</td>\n",
       "      <td>87-14 57 ROAD</td>\n",
       "      <td>...</td>\n",
       "      <td>NaN</td>\n",
       "      <td>NaN</td>\n",
       "      <td>NaN</td>\n",
       "      <td>NaN</td>\n",
       "      <td>NaN</td>\n",
       "      <td>NaN</td>\n",
       "      <td>NaN</td>\n",
       "      <td>40.733060</td>\n",
       "      <td>-73.874170</td>\n",
       "      <td>(40.733059618956815, -73.87416975810375)</td>\n",
       "    </tr>\n",
       "  </tbody>\n",
       "</table>\n",
       "<p>5 rows × 53 columns</p>\n",
       "</div>"
      ],
      "text/plain": [
       "   Unique Key            Created Date             Closed Date Agency  \\\n",
       "0    32310363  12/31/2015 11:59:45 PM  01/01/2016 12:55:15 AM   NYPD   \n",
       "1    32309934  12/31/2015 11:59:44 PM  01/01/2016 01:26:57 AM   NYPD   \n",
       "2    32309159  12/31/2015 11:59:29 PM  01/01/2016 04:51:03 AM   NYPD   \n",
       "3    32305098  12/31/2015 11:57:46 PM  01/01/2016 07:43:13 AM   NYPD   \n",
       "4    32306529  12/31/2015 11:56:58 PM  01/01/2016 03:24:42 AM   NYPD   \n",
       "\n",
       "                       Agency Name           Complaint Type  \\\n",
       "0  New York City Police Department  Noise - Street/Sidewalk   \n",
       "1  New York City Police Department         Blocked Driveway   \n",
       "2  New York City Police Department         Blocked Driveway   \n",
       "3  New York City Police Department          Illegal Parking   \n",
       "4  New York City Police Department          Illegal Parking   \n",
       "\n",
       "                     Descriptor    Location Type  Incident Zip  \\\n",
       "0              Loud Music/Party  Street/Sidewalk         10034   \n",
       "1                     No Access  Street/Sidewalk         11105   \n",
       "2                     No Access  Street/Sidewalk         10458   \n",
       "3  Commercial Overnight Parking  Street/Sidewalk         10461   \n",
       "4              Blocked Sidewalk  Street/Sidewalk         11373   \n",
       "\n",
       "        Incident Address                    ...                     \\\n",
       "0    71 VERMILYEA AVENUE                    ...                      \n",
       "1        27-07 23 AVENUE                    ...                      \n",
       "2  2897 VALENTINE AVENUE                    ...                      \n",
       "3    2940 BAISLEY AVENUE                    ...                      \n",
       "4          87-14 57 ROAD                    ...                      \n",
       "\n",
       "  Bridge Highway Name Bridge Highway Direction Road Ramp  \\\n",
       "0                 NaN                      NaN       NaN   \n",
       "1                 NaN                      NaN       NaN   \n",
       "2                 NaN                      NaN       NaN   \n",
       "3                 NaN                      NaN       NaN   \n",
       "4                 NaN                      NaN       NaN   \n",
       "\n",
       "  Bridge Highway Segment Garage Lot Name Ferry Direction Ferry Terminal Name  \\\n",
       "0                    NaN             NaN             NaN                 NaN   \n",
       "1                    NaN             NaN             NaN                 NaN   \n",
       "2                    NaN             NaN             NaN                 NaN   \n",
       "3                    NaN             NaN             NaN                 NaN   \n",
       "4                    NaN             NaN             NaN                 NaN   \n",
       "\n",
       "    Latitude  Longitude                                  Location  \n",
       "0  40.865682 -73.923501   (40.86568153633767, -73.92350095571744)  \n",
       "1  40.775945 -73.915094  (40.775945312321085, -73.91509393898605)  \n",
       "2  40.870325 -73.888525  (40.870324522111424, -73.88852464418646)  \n",
       "3  40.835994 -73.828379   (40.83599404683083, -73.82837939584206)  \n",
       "4  40.733060 -73.874170  (40.733059618956815, -73.87416975810375)  \n",
       "\n",
       "[5 rows x 53 columns]"
      ]
     },
     "execution_count": 4,
     "metadata": {},
     "output_type": "execute_result"
    }
   ],
   "source": [
    "requests.head()"
   ]
  },
  {
   "cell_type": "code",
   "execution_count": 5,
   "metadata": {
    "collapsed": false
   },
   "outputs": [
    {
     "data": {
      "text/plain": [
       "Unique Key                          int64\n",
       "Created Date                       object\n",
       "Closed Date                        object\n",
       "Agency                             object\n",
       "Agency Name                        object\n",
       "Complaint Type                     object\n",
       "Descriptor                         object\n",
       "Location Type                      object\n",
       "Incident Zip                      float64\n",
       "Incident Address                   object\n",
       "Street Name                        object\n",
       "Cross Street 1                     object\n",
       "Cross Street 2                     object\n",
       "Intersection Street 1              object\n",
       "Intersection Street 2              object\n",
       "Address Type                       object\n",
       "City                               object\n",
       "Landmark                           object\n",
       "Facility Type                      object\n",
       "Status                             object\n",
       "Due Date                           object\n",
       "Resolution Description             object\n",
       "Resolution Action Updated Date     object\n",
       "Community Board                    object\n",
       "Borough                            object\n",
       "X Coordinate (State Plane)        float64\n",
       "Y Coordinate (State Plane)        float64\n",
       "Park Facility Name                 object\n",
       "Park Borough                       object\n",
       "School Name                        object\n",
       "School Number                      object\n",
       "School Region                      object\n",
       "School Code                        object\n",
       "School Phone Number                object\n",
       "School Address                     object\n",
       "School City                        object\n",
       "School State                       object\n",
       "School Zip                         object\n",
       "School Not Found                   object\n",
       "School or Citywide Complaint      float64\n",
       "Vehicle Type                      float64\n",
       "Taxi Company Borough              float64\n",
       "Taxi Pick Up Location             float64\n",
       "Bridge Highway Name                object\n",
       "Bridge Highway Direction           object\n",
       "Road Ramp                          object\n",
       "Bridge Highway Segment             object\n",
       "Garage Lot Name                   float64\n",
       "Ferry Direction                    object\n",
       "Ferry Terminal Name                object\n",
       "Latitude                          float64\n",
       "Longitude                         float64\n",
       "Location                           object\n",
       "dtype: object"
      ]
     },
     "execution_count": 5,
     "metadata": {},
     "output_type": "execute_result"
    }
   ],
   "source": [
    "requests.dtypes"
   ]
  },
  {
   "cell_type": "markdown",
   "metadata": {},
   "source": [
    "From this brief examination of the data, we can see that there are a number of columns that are not relevant to our analysis. There are also a few date columns that need to be converted from an object data type to datetime.\n",
    "\n",
    "We will also need to add a few columns that will be used in our analysis: season, hour of the request, and resolution time."
   ]
  },
  {
   "cell_type": "markdown",
   "metadata": {},
   "source": [
    "## Data Cleaning"
   ]
  },
  {
   "cell_type": "markdown",
   "metadata": {},
   "source": [
    "We will start by removing the unnecessary columns, and renaming any remaining columns for clarity, as necessary."
   ]
  },
  {
   "cell_type": "code",
   "execution_count": 6,
   "metadata": {
    "collapsed": true
   },
   "outputs": [],
   "source": [
    "columns = ['Unique Key', 'Created Date', 'Closed Date', 'Complaint Type', 'Descriptor', 'Location Type', 'Incident Zip',\\\n",
    "           'Address Type', 'City', 'Resolution Description', 'Borough', 'Latitude', 'Longitude']\n",
    "requests = requests.loc[:,columns]"
   ]
  },
  {
   "cell_type": "markdown",
   "metadata": {},
   "source": [
    "Let's confirm that we now have a dataframe with only the expected 13 columns instead of 53."
   ]
  },
  {
   "cell_type": "code",
   "execution_count": 7,
   "metadata": {
    "collapsed": false
   },
   "outputs": [
    {
     "data": {
      "text/plain": [
       "(364558, 13)"
      ]
     },
     "execution_count": 7,
     "metadata": {},
     "output_type": "execute_result"
    }
   ],
   "source": [
    "requests.shape"
   ]
  },
  {
   "cell_type": "markdown",
   "metadata": {},
   "source": [
    "Now we can clean up the column name formatting."
   ]
  },
  {
   "cell_type": "code",
   "execution_count": 8,
   "metadata": {
    "collapsed": false
   },
   "outputs": [
    {
     "data": {
      "text/plain": [
       "Index([u'unique_key', u'created_date', u'closed_date', u'complaint_type',\n",
       "       u'descriptor', u'location_type', u'incident_zip', u'address_type',\n",
       "       u'city', u'resolution_description', u'borough', u'latitude',\n",
       "       u'longitude'],\n",
       "      dtype='object')"
      ]
     },
     "execution_count": 8,
     "metadata": {},
     "output_type": "execute_result"
    }
   ],
   "source": [
    "requests.columns = requests.columns.str.replace(\" \", \"_\").str.lower()\n",
    "requests.columns"
   ]
  },
  {
   "cell_type": "markdown",
   "metadata": {},
   "source": [
    "Almost all of these column names are self-explanatory, with the exception of the \"Descriptor\" column. From the data dictionary on the [NYC Open Data website](https://data.cityofnewyork.us/Social-Services/311-Service-Requests-from-2010-to-Present/erm2-nwe9), we know that the column includes further details on the complaint type. Therefore, we can rename it to reflect this."
   ]
  },
  {
   "cell_type": "code",
   "execution_count": 9,
   "metadata": {
    "collapsed": true
   },
   "outputs": [],
   "source": [
    "requests = requests.rename(columns={\"descriptor\": \"complaint_description\"})"
   ]
  },
  {
   "cell_type": "markdown",
   "metadata": {},
   "source": [
    "Next we will convert the date columns to datetime format."
   ]
  },
  {
   "cell_type": "code",
   "execution_count": 10,
   "metadata": {
    "collapsed": true
   },
   "outputs": [],
   "source": [
    "requests['created_date'] =  pd.to_datetime(requests['created_date'], format='%m/%d/%Y %I:%M:%S %p')\n",
    "requests['closed_date'] =  pd.to_datetime(requests['closed_date'], format='%m/%d/%Y %I:%M:%S %p')"
   ]
  },
  {
   "cell_type": "markdown",
   "metadata": {},
   "source": [
    "Now we can add the three columns that we will need for analysis purposes: season, hour of request, and resolution time. For the hour, we can simply extract the hour field from the time that the request was created. For the season, we will write a function to identify the season based on the month that the request was created."
   ]
  },
  {
   "cell_type": "code",
   "execution_count": 11,
   "metadata": {
    "collapsed": false
   },
   "outputs": [],
   "source": [
    "requests['hour'] = requests['created_date'].dt.hour\n",
    "requests['month'] = requests['created_date'].dt.month #adding this column for the season identification, below\n",
    "\n",
    "def add_season(row):\n",
    "    if (row[\"month\"] == 1) | (row[\"month\"] == 2) | (row[\"month\"] == 12):\n",
    "        return \"Winter\"\n",
    "    elif (row[\"month\"] == 3) | (row[\"month\"] == 4) | (row[\"month\"] == 5):\n",
    "        return \"Spring\"\n",
    "    elif (row[\"month\"] == 6) | (row[\"month\"] == 7) | (row[\"month\"] == 8):\n",
    "        return \"Summer\"\n",
    "    else:\n",
    "        return \"Autumn\"\n",
    "\n",
    "requests['season'] = requests.apply(add_season, axis=1)"
   ]
  },
  {
   "cell_type": "markdown",
   "metadata": {},
   "source": [
    "While the month column is not one that was initially identified as necessary for our analysis, and could therefore be deleted, we will leave it in in case it's useful for future analyses. \n",
    "\n",
    "Now we will compute the resolution time in minutes by subtracting the date created from the date closed, and displaying the result in minutes."
   ]
  },
  {
   "cell_type": "code",
   "execution_count": 12,
   "metadata": {
    "collapsed": true
   },
   "outputs": [],
   "source": [
    "requests['resolution_time_m'] = (requests.closed_date-requests.created_date).astype('timedelta64[m]')"
   ]
  },
  {
   "cell_type": "markdown",
   "metadata": {},
   "source": [
    "Let's check to make sure the columns were all added correctly."
   ]
  },
  {
   "cell_type": "code",
   "execution_count": 13,
   "metadata": {
    "collapsed": false
   },
   "outputs": [
    {
     "data": {
      "text/html": [
       "<div>\n",
       "<table border=\"1\" class=\"dataframe\">\n",
       "  <thead>\n",
       "    <tr style=\"text-align: right;\">\n",
       "      <th></th>\n",
       "      <th>unique_key</th>\n",
       "      <th>created_date</th>\n",
       "      <th>closed_date</th>\n",
       "      <th>complaint_type</th>\n",
       "      <th>complaint_description</th>\n",
       "      <th>location_type</th>\n",
       "      <th>incident_zip</th>\n",
       "      <th>address_type</th>\n",
       "      <th>city</th>\n",
       "      <th>resolution_description</th>\n",
       "      <th>borough</th>\n",
       "      <th>latitude</th>\n",
       "      <th>longitude</th>\n",
       "      <th>hour</th>\n",
       "      <th>month</th>\n",
       "      <th>season</th>\n",
       "      <th>resolution_time_m</th>\n",
       "    </tr>\n",
       "  </thead>\n",
       "  <tbody>\n",
       "    <tr>\n",
       "      <th>0</th>\n",
       "      <td>32310363</td>\n",
       "      <td>2015-12-31 23:59:45</td>\n",
       "      <td>2016-01-01 00:55:15</td>\n",
       "      <td>Noise - Street/Sidewalk</td>\n",
       "      <td>Loud Music/Party</td>\n",
       "      <td>Street/Sidewalk</td>\n",
       "      <td>10034</td>\n",
       "      <td>ADDRESS</td>\n",
       "      <td>NEW YORK</td>\n",
       "      <td>The Police Department responded and upon arriv...</td>\n",
       "      <td>MANHATTAN</td>\n",
       "      <td>40.865682</td>\n",
       "      <td>-73.923501</td>\n",
       "      <td>23</td>\n",
       "      <td>12</td>\n",
       "      <td>Winter</td>\n",
       "      <td>55</td>\n",
       "    </tr>\n",
       "    <tr>\n",
       "      <th>1</th>\n",
       "      <td>32309934</td>\n",
       "      <td>2015-12-31 23:59:44</td>\n",
       "      <td>2016-01-01 01:26:57</td>\n",
       "      <td>Blocked Driveway</td>\n",
       "      <td>No Access</td>\n",
       "      <td>Street/Sidewalk</td>\n",
       "      <td>11105</td>\n",
       "      <td>ADDRESS</td>\n",
       "      <td>ASTORIA</td>\n",
       "      <td>The Police Department responded to the complai...</td>\n",
       "      <td>QUEENS</td>\n",
       "      <td>40.775945</td>\n",
       "      <td>-73.915094</td>\n",
       "      <td>23</td>\n",
       "      <td>12</td>\n",
       "      <td>Winter</td>\n",
       "      <td>87</td>\n",
       "    </tr>\n",
       "    <tr>\n",
       "      <th>2</th>\n",
       "      <td>32309159</td>\n",
       "      <td>2015-12-31 23:59:29</td>\n",
       "      <td>2016-01-01 04:51:03</td>\n",
       "      <td>Blocked Driveway</td>\n",
       "      <td>No Access</td>\n",
       "      <td>Street/Sidewalk</td>\n",
       "      <td>10458</td>\n",
       "      <td>ADDRESS</td>\n",
       "      <td>BRONX</td>\n",
       "      <td>The Police Department responded and upon arriv...</td>\n",
       "      <td>BRONX</td>\n",
       "      <td>40.870325</td>\n",
       "      <td>-73.888525</td>\n",
       "      <td>23</td>\n",
       "      <td>12</td>\n",
       "      <td>Winter</td>\n",
       "      <td>291</td>\n",
       "    </tr>\n",
       "    <tr>\n",
       "      <th>3</th>\n",
       "      <td>32305098</td>\n",
       "      <td>2015-12-31 23:57:46</td>\n",
       "      <td>2016-01-01 07:43:13</td>\n",
       "      <td>Illegal Parking</td>\n",
       "      <td>Commercial Overnight Parking</td>\n",
       "      <td>Street/Sidewalk</td>\n",
       "      <td>10461</td>\n",
       "      <td>ADDRESS</td>\n",
       "      <td>BRONX</td>\n",
       "      <td>The Police Department responded to the complai...</td>\n",
       "      <td>BRONX</td>\n",
       "      <td>40.835994</td>\n",
       "      <td>-73.828379</td>\n",
       "      <td>23</td>\n",
       "      <td>12</td>\n",
       "      <td>Winter</td>\n",
       "      <td>465</td>\n",
       "    </tr>\n",
       "    <tr>\n",
       "      <th>4</th>\n",
       "      <td>32306529</td>\n",
       "      <td>2015-12-31 23:56:58</td>\n",
       "      <td>2016-01-01 03:24:42</td>\n",
       "      <td>Illegal Parking</td>\n",
       "      <td>Blocked Sidewalk</td>\n",
       "      <td>Street/Sidewalk</td>\n",
       "      <td>11373</td>\n",
       "      <td>ADDRESS</td>\n",
       "      <td>ELMHURST</td>\n",
       "      <td>The Police Department responded and upon arriv...</td>\n",
       "      <td>QUEENS</td>\n",
       "      <td>40.733060</td>\n",
       "      <td>-73.874170</td>\n",
       "      <td>23</td>\n",
       "      <td>12</td>\n",
       "      <td>Winter</td>\n",
       "      <td>207</td>\n",
       "    </tr>\n",
       "  </tbody>\n",
       "</table>\n",
       "</div>"
      ],
      "text/plain": [
       "   unique_key        created_date         closed_date  \\\n",
       "0    32310363 2015-12-31 23:59:45 2016-01-01 00:55:15   \n",
       "1    32309934 2015-12-31 23:59:44 2016-01-01 01:26:57   \n",
       "2    32309159 2015-12-31 23:59:29 2016-01-01 04:51:03   \n",
       "3    32305098 2015-12-31 23:57:46 2016-01-01 07:43:13   \n",
       "4    32306529 2015-12-31 23:56:58 2016-01-01 03:24:42   \n",
       "\n",
       "            complaint_type         complaint_description    location_type  \\\n",
       "0  Noise - Street/Sidewalk              Loud Music/Party  Street/Sidewalk   \n",
       "1         Blocked Driveway                     No Access  Street/Sidewalk   \n",
       "2         Blocked Driveway                     No Access  Street/Sidewalk   \n",
       "3          Illegal Parking  Commercial Overnight Parking  Street/Sidewalk   \n",
       "4          Illegal Parking              Blocked Sidewalk  Street/Sidewalk   \n",
       "\n",
       "   incident_zip address_type      city  \\\n",
       "0         10034      ADDRESS  NEW YORK   \n",
       "1         11105      ADDRESS   ASTORIA   \n",
       "2         10458      ADDRESS     BRONX   \n",
       "3         10461      ADDRESS     BRONX   \n",
       "4         11373      ADDRESS  ELMHURST   \n",
       "\n",
       "                              resolution_description    borough   latitude  \\\n",
       "0  The Police Department responded and upon arriv...  MANHATTAN  40.865682   \n",
       "1  The Police Department responded to the complai...     QUEENS  40.775945   \n",
       "2  The Police Department responded and upon arriv...      BRONX  40.870325   \n",
       "3  The Police Department responded to the complai...      BRONX  40.835994   \n",
       "4  The Police Department responded and upon arriv...     QUEENS  40.733060   \n",
       "\n",
       "   longitude  hour  month  season  resolution_time_m  \n",
       "0 -73.923501    23     12  Winter                 55  \n",
       "1 -73.915094    23     12  Winter                 87  \n",
       "2 -73.888525    23     12  Winter                291  \n",
       "3 -73.828379    23     12  Winter                465  \n",
       "4 -73.874170    23     12  Winter                207  "
      ]
     },
     "execution_count": 13,
     "metadata": {},
     "output_type": "execute_result"
    }
   ],
   "source": [
    "requests.head()"
   ]
  },
  {
   "cell_type": "markdown",
   "metadata": {},
   "source": [
    "Since this analysis will frequently consider complaint types, let's take a quick look at those values to see if any cleanup is needed."
   ]
  },
  {
   "cell_type": "code",
   "execution_count": 14,
   "metadata": {
    "collapsed": false
   },
   "outputs": [
    {
     "data": {
      "text/plain": [
       "Blocked Driveway             100881\n",
       "Illegal Parking               92679\n",
       "Noise - Street/Sidewalk       51692\n",
       "Noise - Commercial            44109\n",
       "Derelict Vehicle              21661\n",
       "Noise - Vehicle               19352\n",
       "Animal Abuse                  10541\n",
       "Traffic                        5198\n",
       "Homeless Encampment            4879\n",
       "Vending                        4192\n",
       "Noise - Park                   4109\n",
       "Drinking                       1409\n",
       "Noise - House of Worship       1070\n",
       "Posting Advertisement           681\n",
       "Urinating in Public             641\n",
       "Bike/Roller/Skate Chronic       478\n",
       "Panhandling                     327\n",
       "Disorderly Youth                315\n",
       "Illegal Fireworks               172\n",
       "Graffiti                        157\n",
       "Agency Issues                     8\n",
       "Squeegee                          4\n",
       "Ferry Complaint                   2\n",
       "Animal in a Park                  1\n",
       "Name: complaint_type, dtype: int64"
      ]
     },
     "execution_count": 14,
     "metadata": {},
     "output_type": "execute_result"
    }
   ],
   "source": [
    "requests['complaint_type'].value_counts()"
   ]
  },
  {
   "cell_type": "markdown",
   "metadata": {},
   "source": [
    "From this, we can see that the noise complaints are broken up into five different categories.  While it may be interesting to look at those breakdowns later in the analysis, we want our top level complaint type to just be \"Noise\". Therefore, we'll pull the noise types out into their own column for future use."
   ]
  },
  {
   "cell_type": "code",
   "execution_count": 15,
   "metadata": {
    "collapsed": false
   },
   "outputs": [
    {
     "data": {
      "text/plain": [
       "Noise                        120332\n",
       "Blocked Driveway             100881\n",
       "Illegal Parking               92679\n",
       "Derelict Vehicle              21661\n",
       "Animal Abuse                  10541\n",
       "Traffic                        5198\n",
       "Homeless Encampment            4879\n",
       "Vending                        4192\n",
       "Drinking                       1409\n",
       "Posting Advertisement           681\n",
       "Urinating in Public             641\n",
       "Bike/Roller/Skate Chronic       478\n",
       "Panhandling                     327\n",
       "Disorderly Youth                315\n",
       "Illegal Fireworks               172\n",
       "Graffiti                        157\n",
       "Agency Issues                     8\n",
       "Squeegee                          4\n",
       "Ferry Complaint                   2\n",
       "Animal in a Park                  1\n",
       "Name: complaint_type, dtype: int64"
      ]
     },
     "execution_count": 15,
     "metadata": {},
     "output_type": "execute_result"
    }
   ],
   "source": [
    "requests['noise_type'] = requests['complaint_type'].str.split(' - ').str.get(1)\n",
    "requests['complaint_type'] = requests['complaint_type'].str.split(' - ').str.get(0)\n",
    "requests['complaint_type'].value_counts()"
   ]
  },
  {
   "cell_type": "markdown",
   "metadata": {},
   "source": [
    "Now let's check to make sure that there are no duplicate rows in our dataset. Each service request is given a unique number (the \"unique_key\" field in our dataset), so we will check for duplicates in that column."
   ]
  },
  {
   "cell_type": "code",
   "execution_count": 16,
   "metadata": {
    "collapsed": false
   },
   "outputs": [
    {
     "data": {
      "text/html": [
       "<div>\n",
       "<table border=\"1\" class=\"dataframe\">\n",
       "  <thead>\n",
       "    <tr style=\"text-align: right;\">\n",
       "      <th></th>\n",
       "      <th>unique_key</th>\n",
       "      <th>created_date</th>\n",
       "      <th>closed_date</th>\n",
       "      <th>complaint_type</th>\n",
       "      <th>complaint_description</th>\n",
       "      <th>location_type</th>\n",
       "      <th>incident_zip</th>\n",
       "      <th>address_type</th>\n",
       "      <th>city</th>\n",
       "      <th>resolution_description</th>\n",
       "      <th>borough</th>\n",
       "      <th>latitude</th>\n",
       "      <th>longitude</th>\n",
       "      <th>hour</th>\n",
       "      <th>month</th>\n",
       "      <th>season</th>\n",
       "      <th>resolution_time_m</th>\n",
       "      <th>noise_type</th>\n",
       "    </tr>\n",
       "  </thead>\n",
       "  <tbody>\n",
       "  </tbody>\n",
       "</table>\n",
       "</div>"
      ],
      "text/plain": [
       "Empty DataFrame\n",
       "Columns: [unique_key, created_date, closed_date, complaint_type, complaint_description, location_type, incident_zip, address_type, city, resolution_description, borough, latitude, longitude, hour, month, season, resolution_time_m, noise_type]\n",
       "Index: []"
      ]
     },
     "execution_count": 16,
     "metadata": {},
     "output_type": "execute_result"
    }
   ],
   "source": [
    "dups = requests.duplicated(['unique_key'])\n",
    "requests[dups]"
   ]
  },
  {
   "cell_type": "markdown",
   "metadata": {},
   "source": [
    "Since the dataframe is empty, we know that there are not duplicate rows with the same unique key.  \n",
    "\n",
    "Finally, let's quickly check for any null values, and either fill or delete them as necessary."
   ]
  },
  {
   "cell_type": "code",
   "execution_count": 17,
   "metadata": {
    "collapsed": false
   },
   "outputs": [
    {
     "data": {
      "text/plain": [
       "unique_key                     0\n",
       "created_date                   0\n",
       "closed_date                 2381\n",
       "complaint_type                 0\n",
       "complaint_description       6501\n",
       "location_type                133\n",
       "incident_zip                2998\n",
       "address_type                3252\n",
       "city                        2997\n",
       "resolution_description         0\n",
       "borough                        0\n",
       "latitude                    4030\n",
       "longitude                   4030\n",
       "hour                           0\n",
       "month                          0\n",
       "season                         0\n",
       "resolution_time_m           2381\n",
       "noise_type                244226\n",
       "dtype: int64"
      ]
     },
     "execution_count": 17,
     "metadata": {},
     "output_type": "execute_result"
    }
   ],
   "source": [
    "requests.isnull().sum()"
   ]
  },
  {
   "cell_type": "markdown",
   "metadata": {},
   "source": [
    "A fair portion of our analysis will be looking at geographic trends, so let's first examine the rows where the 'city' field is null."
   ]
  },
  {
   "cell_type": "code",
   "execution_count": 18,
   "metadata": {
    "collapsed": false
   },
   "outputs": [
    {
     "data": {
      "text/html": [
       "<div>\n",
       "<table border=\"1\" class=\"dataframe\">\n",
       "  <thead>\n",
       "    <tr style=\"text-align: right;\">\n",
       "      <th></th>\n",
       "      <th>unique_key</th>\n",
       "      <th>created_date</th>\n",
       "      <th>closed_date</th>\n",
       "      <th>complaint_type</th>\n",
       "      <th>complaint_description</th>\n",
       "      <th>location_type</th>\n",
       "      <th>incident_zip</th>\n",
       "      <th>address_type</th>\n",
       "      <th>city</th>\n",
       "      <th>resolution_description</th>\n",
       "      <th>borough</th>\n",
       "      <th>latitude</th>\n",
       "      <th>longitude</th>\n",
       "      <th>hour</th>\n",
       "      <th>month</th>\n",
       "      <th>season</th>\n",
       "      <th>resolution_time_m</th>\n",
       "      <th>noise_type</th>\n",
       "    </tr>\n",
       "  </thead>\n",
       "  <tbody>\n",
       "    <tr>\n",
       "      <th>33</th>\n",
       "      <td>32306700</td>\n",
       "      <td>2015-12-31 23:18:10</td>\n",
       "      <td>2016-01-02 01:04:03</td>\n",
       "      <td>Illegal Parking</td>\n",
       "      <td>Double Parked Blocking Traffic</td>\n",
       "      <td>Street/Sidewalk</td>\n",
       "      <td>NaN</td>\n",
       "      <td>NaN</td>\n",
       "      <td>NaN</td>\n",
       "      <td>The Police Department issued a summons in resp...</td>\n",
       "      <td>Unspecified</td>\n",
       "      <td>NaN</td>\n",
       "      <td>NaN</td>\n",
       "      <td>23</td>\n",
       "      <td>12</td>\n",
       "      <td>Winter</td>\n",
       "      <td>1545</td>\n",
       "      <td>NaN</td>\n",
       "    </tr>\n",
       "    <tr>\n",
       "      <th>283</th>\n",
       "      <td>32309451</td>\n",
       "      <td>2015-12-31 17:40:16</td>\n",
       "      <td>2016-01-01 10:59:11</td>\n",
       "      <td>Illegal Parking</td>\n",
       "      <td>Blocked Hydrant</td>\n",
       "      <td>Street/Sidewalk</td>\n",
       "      <td>NaN</td>\n",
       "      <td>NaN</td>\n",
       "      <td>NaN</td>\n",
       "      <td>The Police Department issued a summons in resp...</td>\n",
       "      <td>Unspecified</td>\n",
       "      <td>NaN</td>\n",
       "      <td>NaN</td>\n",
       "      <td>17</td>\n",
       "      <td>12</td>\n",
       "      <td>Winter</td>\n",
       "      <td>1038</td>\n",
       "      <td>NaN</td>\n",
       "    </tr>\n",
       "    <tr>\n",
       "      <th>302</th>\n",
       "      <td>32309860</td>\n",
       "      <td>2015-12-31 17:05:30</td>\n",
       "      <td>2016-01-01 08:17:35</td>\n",
       "      <td>Blocked Driveway</td>\n",
       "      <td>Partial Access</td>\n",
       "      <td>Street/Sidewalk</td>\n",
       "      <td>NaN</td>\n",
       "      <td>NaN</td>\n",
       "      <td>NaN</td>\n",
       "      <td>The Police Department responded to the complai...</td>\n",
       "      <td>Unspecified</td>\n",
       "      <td>NaN</td>\n",
       "      <td>NaN</td>\n",
       "      <td>17</td>\n",
       "      <td>12</td>\n",
       "      <td>Winter</td>\n",
       "      <td>912</td>\n",
       "      <td>NaN</td>\n",
       "    </tr>\n",
       "    <tr>\n",
       "      <th>416</th>\n",
       "      <td>32305700</td>\n",
       "      <td>2015-12-31 14:16:04</td>\n",
       "      <td>NaT</td>\n",
       "      <td>Illegal Parking</td>\n",
       "      <td>Posted Parking Sign Violation</td>\n",
       "      <td>Street/Sidewalk</td>\n",
       "      <td>NaN</td>\n",
       "      <td>NaN</td>\n",
       "      <td>NaN</td>\n",
       "      <td>Your complaint has been forwarded to the New Y...</td>\n",
       "      <td>Unspecified</td>\n",
       "      <td>NaN</td>\n",
       "      <td>NaN</td>\n",
       "      <td>14</td>\n",
       "      <td>12</td>\n",
       "      <td>Winter</td>\n",
       "      <td>NaN</td>\n",
       "      <td>NaN</td>\n",
       "    </tr>\n",
       "    <tr>\n",
       "      <th>611</th>\n",
       "      <td>32309308</td>\n",
       "      <td>2015-12-31 09:58:06</td>\n",
       "      <td>NaT</td>\n",
       "      <td>Noise</td>\n",
       "      <td>Loud Music/Party</td>\n",
       "      <td>Street/Sidewalk</td>\n",
       "      <td>NaN</td>\n",
       "      <td>NaN</td>\n",
       "      <td>NaN</td>\n",
       "      <td>Your complaint has been forwarded to the New Y...</td>\n",
       "      <td>Unspecified</td>\n",
       "      <td>NaN</td>\n",
       "      <td>NaN</td>\n",
       "      <td>9</td>\n",
       "      <td>12</td>\n",
       "      <td>Winter</td>\n",
       "      <td>NaN</td>\n",
       "      <td>Street/Sidewalk</td>\n",
       "    </tr>\n",
       "    <tr>\n",
       "      <th>1421</th>\n",
       "      <td>32299438</td>\n",
       "      <td>2015-12-30 11:55:25</td>\n",
       "      <td>2015-12-30 14:35:54</td>\n",
       "      <td>Illegal Parking</td>\n",
       "      <td>Blocked Sidewalk</td>\n",
       "      <td>Street/Sidewalk</td>\n",
       "      <td>NaN</td>\n",
       "      <td>NaN</td>\n",
       "      <td>NaN</td>\n",
       "      <td>The Police Department responded to the complai...</td>\n",
       "      <td>Unspecified</td>\n",
       "      <td>NaN</td>\n",
       "      <td>NaN</td>\n",
       "      <td>11</td>\n",
       "      <td>12</td>\n",
       "      <td>Winter</td>\n",
       "      <td>160</td>\n",
       "      <td>NaN</td>\n",
       "    </tr>\n",
       "    <tr>\n",
       "      <th>1648</th>\n",
       "      <td>32303348</td>\n",
       "      <td>2015-12-30 05:13:42</td>\n",
       "      <td>NaT</td>\n",
       "      <td>Illegal Parking</td>\n",
       "      <td>Commercial Overnight Parking</td>\n",
       "      <td>Street/Sidewalk</td>\n",
       "      <td>NaN</td>\n",
       "      <td>NaN</td>\n",
       "      <td>NaN</td>\n",
       "      <td>Your complaint has been forwarded to the New Y...</td>\n",
       "      <td>Unspecified</td>\n",
       "      <td>NaN</td>\n",
       "      <td>NaN</td>\n",
       "      <td>5</td>\n",
       "      <td>12</td>\n",
       "      <td>Winter</td>\n",
       "      <td>NaN</td>\n",
       "      <td>NaN</td>\n",
       "    </tr>\n",
       "    <tr>\n",
       "      <th>1816</th>\n",
       "      <td>32294519</td>\n",
       "      <td>2015-12-29 22:44:50</td>\n",
       "      <td>NaT</td>\n",
       "      <td>Derelict Vehicle</td>\n",
       "      <td>With License Plate</td>\n",
       "      <td>Street/Sidewalk</td>\n",
       "      <td>NaN</td>\n",
       "      <td>NaN</td>\n",
       "      <td>NaN</td>\n",
       "      <td>Your complaint has been forwarded to the New Y...</td>\n",
       "      <td>Unspecified</td>\n",
       "      <td>NaN</td>\n",
       "      <td>NaN</td>\n",
       "      <td>22</td>\n",
       "      <td>12</td>\n",
       "      <td>Winter</td>\n",
       "      <td>NaN</td>\n",
       "      <td>NaN</td>\n",
       "    </tr>\n",
       "    <tr>\n",
       "      <th>1965</th>\n",
       "      <td>32296487</td>\n",
       "      <td>2015-12-29 19:09:13</td>\n",
       "      <td>NaT</td>\n",
       "      <td>Derelict Vehicle</td>\n",
       "      <td>With License Plate</td>\n",
       "      <td>Street/Sidewalk</td>\n",
       "      <td>NaN</td>\n",
       "      <td>NaN</td>\n",
       "      <td>NaN</td>\n",
       "      <td>Your complaint has been forwarded to the New Y...</td>\n",
       "      <td>Unspecified</td>\n",
       "      <td>NaN</td>\n",
       "      <td>NaN</td>\n",
       "      <td>19</td>\n",
       "      <td>12</td>\n",
       "      <td>Winter</td>\n",
       "      <td>NaN</td>\n",
       "      <td>NaN</td>\n",
       "    </tr>\n",
       "    <tr>\n",
       "      <th>1987</th>\n",
       "      <td>32293372</td>\n",
       "      <td>2015-12-29 18:31:39</td>\n",
       "      <td>NaT</td>\n",
       "      <td>Illegal Parking</td>\n",
       "      <td>Commercial Overnight Parking</td>\n",
       "      <td>Street/Sidewalk</td>\n",
       "      <td>NaN</td>\n",
       "      <td>NaN</td>\n",
       "      <td>NaN</td>\n",
       "      <td>Your complaint has been forwarded to the New Y...</td>\n",
       "      <td>Unspecified</td>\n",
       "      <td>NaN</td>\n",
       "      <td>NaN</td>\n",
       "      <td>18</td>\n",
       "      <td>12</td>\n",
       "      <td>Winter</td>\n",
       "      <td>NaN</td>\n",
       "      <td>NaN</td>\n",
       "    </tr>\n",
       "  </tbody>\n",
       "</table>\n",
       "</div>"
      ],
      "text/plain": [
       "      unique_key        created_date         closed_date    complaint_type  \\\n",
       "33      32306700 2015-12-31 23:18:10 2016-01-02 01:04:03   Illegal Parking   \n",
       "283     32309451 2015-12-31 17:40:16 2016-01-01 10:59:11   Illegal Parking   \n",
       "302     32309860 2015-12-31 17:05:30 2016-01-01 08:17:35  Blocked Driveway   \n",
       "416     32305700 2015-12-31 14:16:04                 NaT   Illegal Parking   \n",
       "611     32309308 2015-12-31 09:58:06                 NaT             Noise   \n",
       "1421    32299438 2015-12-30 11:55:25 2015-12-30 14:35:54   Illegal Parking   \n",
       "1648    32303348 2015-12-30 05:13:42                 NaT   Illegal Parking   \n",
       "1816    32294519 2015-12-29 22:44:50                 NaT  Derelict Vehicle   \n",
       "1965    32296487 2015-12-29 19:09:13                 NaT  Derelict Vehicle   \n",
       "1987    32293372 2015-12-29 18:31:39                 NaT   Illegal Parking   \n",
       "\n",
       "               complaint_description    location_type  incident_zip  \\\n",
       "33    Double Parked Blocking Traffic  Street/Sidewalk           NaN   \n",
       "283                  Blocked Hydrant  Street/Sidewalk           NaN   \n",
       "302                   Partial Access  Street/Sidewalk           NaN   \n",
       "416    Posted Parking Sign Violation  Street/Sidewalk           NaN   \n",
       "611                 Loud Music/Party  Street/Sidewalk           NaN   \n",
       "1421                Blocked Sidewalk  Street/Sidewalk           NaN   \n",
       "1648    Commercial Overnight Parking  Street/Sidewalk           NaN   \n",
       "1816              With License Plate  Street/Sidewalk           NaN   \n",
       "1965              With License Plate  Street/Sidewalk           NaN   \n",
       "1987    Commercial Overnight Parking  Street/Sidewalk           NaN   \n",
       "\n",
       "     address_type city                             resolution_description  \\\n",
       "33            NaN  NaN  The Police Department issued a summons in resp...   \n",
       "283           NaN  NaN  The Police Department issued a summons in resp...   \n",
       "302           NaN  NaN  The Police Department responded to the complai...   \n",
       "416           NaN  NaN  Your complaint has been forwarded to the New Y...   \n",
       "611           NaN  NaN  Your complaint has been forwarded to the New Y...   \n",
       "1421          NaN  NaN  The Police Department responded to the complai...   \n",
       "1648          NaN  NaN  Your complaint has been forwarded to the New Y...   \n",
       "1816          NaN  NaN  Your complaint has been forwarded to the New Y...   \n",
       "1965          NaN  NaN  Your complaint has been forwarded to the New Y...   \n",
       "1987          NaN  NaN  Your complaint has been forwarded to the New Y...   \n",
       "\n",
       "          borough  latitude  longitude  hour  month  season  \\\n",
       "33    Unspecified       NaN        NaN    23     12  Winter   \n",
       "283   Unspecified       NaN        NaN    17     12  Winter   \n",
       "302   Unspecified       NaN        NaN    17     12  Winter   \n",
       "416   Unspecified       NaN        NaN    14     12  Winter   \n",
       "611   Unspecified       NaN        NaN     9     12  Winter   \n",
       "1421  Unspecified       NaN        NaN    11     12  Winter   \n",
       "1648  Unspecified       NaN        NaN     5     12  Winter   \n",
       "1816  Unspecified       NaN        NaN    22     12  Winter   \n",
       "1965  Unspecified       NaN        NaN    19     12  Winter   \n",
       "1987  Unspecified       NaN        NaN    18     12  Winter   \n",
       "\n",
       "      resolution_time_m       noise_type  \n",
       "33                 1545              NaN  \n",
       "283                1038              NaN  \n",
       "302                 912              NaN  \n",
       "416                 NaN              NaN  \n",
       "611                 NaN  Street/Sidewalk  \n",
       "1421                160              NaN  \n",
       "1648                NaN              NaN  \n",
       "1816                NaN              NaN  \n",
       "1965                NaN              NaN  \n",
       "1987                NaN              NaN  "
      ]
     },
     "execution_count": 18,
     "metadata": {},
     "output_type": "execute_result"
    }
   ],
   "source": [
    "requests[requests[\"city\"].isnull()].head(10)"
   ]
  },
  {
   "cell_type": "markdown",
   "metadata": {},
   "source": [
    "There is no information in these rows that will help us determine the correct values for the 'city' field. Even more interesting is that there are non-null values in the 'borough' column that are listed as \"Unspecified\". We are interested in concrete values for the 'borough' field, so let's take a look at the rows where that is unspecified."
   ]
  },
  {
   "cell_type": "code",
   "execution_count": 19,
   "metadata": {
    "collapsed": false
   },
   "outputs": [
    {
     "data": {
      "text/html": [
       "<div>\n",
       "<table border=\"1\" class=\"dataframe\">\n",
       "  <thead>\n",
       "    <tr style=\"text-align: right;\">\n",
       "      <th></th>\n",
       "      <th>unique_key</th>\n",
       "      <th>created_date</th>\n",
       "      <th>closed_date</th>\n",
       "      <th>complaint_type</th>\n",
       "      <th>complaint_description</th>\n",
       "      <th>location_type</th>\n",
       "      <th>incident_zip</th>\n",
       "      <th>address_type</th>\n",
       "      <th>city</th>\n",
       "      <th>resolution_description</th>\n",
       "      <th>borough</th>\n",
       "      <th>latitude</th>\n",
       "      <th>longitude</th>\n",
       "      <th>hour</th>\n",
       "      <th>month</th>\n",
       "      <th>season</th>\n",
       "      <th>resolution_time_m</th>\n",
       "      <th>noise_type</th>\n",
       "    </tr>\n",
       "  </thead>\n",
       "  <tbody>\n",
       "    <tr>\n",
       "      <th>33</th>\n",
       "      <td>32306700</td>\n",
       "      <td>2015-12-31 23:18:10</td>\n",
       "      <td>2016-01-02 01:04:03</td>\n",
       "      <td>Illegal Parking</td>\n",
       "      <td>Double Parked Blocking Traffic</td>\n",
       "      <td>Street/Sidewalk</td>\n",
       "      <td>NaN</td>\n",
       "      <td>NaN</td>\n",
       "      <td>NaN</td>\n",
       "      <td>The Police Department issued a summons in resp...</td>\n",
       "      <td>Unspecified</td>\n",
       "      <td>NaN</td>\n",
       "      <td>NaN</td>\n",
       "      <td>23</td>\n",
       "      <td>12</td>\n",
       "      <td>Winter</td>\n",
       "      <td>1545</td>\n",
       "      <td>NaN</td>\n",
       "    </tr>\n",
       "    <tr>\n",
       "      <th>283</th>\n",
       "      <td>32309451</td>\n",
       "      <td>2015-12-31 17:40:16</td>\n",
       "      <td>2016-01-01 10:59:11</td>\n",
       "      <td>Illegal Parking</td>\n",
       "      <td>Blocked Hydrant</td>\n",
       "      <td>Street/Sidewalk</td>\n",
       "      <td>NaN</td>\n",
       "      <td>NaN</td>\n",
       "      <td>NaN</td>\n",
       "      <td>The Police Department issued a summons in resp...</td>\n",
       "      <td>Unspecified</td>\n",
       "      <td>NaN</td>\n",
       "      <td>NaN</td>\n",
       "      <td>17</td>\n",
       "      <td>12</td>\n",
       "      <td>Winter</td>\n",
       "      <td>1038</td>\n",
       "      <td>NaN</td>\n",
       "    </tr>\n",
       "    <tr>\n",
       "      <th>302</th>\n",
       "      <td>32309860</td>\n",
       "      <td>2015-12-31 17:05:30</td>\n",
       "      <td>2016-01-01 08:17:35</td>\n",
       "      <td>Blocked Driveway</td>\n",
       "      <td>Partial Access</td>\n",
       "      <td>Street/Sidewalk</td>\n",
       "      <td>NaN</td>\n",
       "      <td>NaN</td>\n",
       "      <td>NaN</td>\n",
       "      <td>The Police Department responded to the complai...</td>\n",
       "      <td>Unspecified</td>\n",
       "      <td>NaN</td>\n",
       "      <td>NaN</td>\n",
       "      <td>17</td>\n",
       "      <td>12</td>\n",
       "      <td>Winter</td>\n",
       "      <td>912</td>\n",
       "      <td>NaN</td>\n",
       "    </tr>\n",
       "    <tr>\n",
       "      <th>416</th>\n",
       "      <td>32305700</td>\n",
       "      <td>2015-12-31 14:16:04</td>\n",
       "      <td>NaT</td>\n",
       "      <td>Illegal Parking</td>\n",
       "      <td>Posted Parking Sign Violation</td>\n",
       "      <td>Street/Sidewalk</td>\n",
       "      <td>NaN</td>\n",
       "      <td>NaN</td>\n",
       "      <td>NaN</td>\n",
       "      <td>Your complaint has been forwarded to the New Y...</td>\n",
       "      <td>Unspecified</td>\n",
       "      <td>NaN</td>\n",
       "      <td>NaN</td>\n",
       "      <td>14</td>\n",
       "      <td>12</td>\n",
       "      <td>Winter</td>\n",
       "      <td>NaN</td>\n",
       "      <td>NaN</td>\n",
       "    </tr>\n",
       "    <tr>\n",
       "      <th>611</th>\n",
       "      <td>32309308</td>\n",
       "      <td>2015-12-31 09:58:06</td>\n",
       "      <td>NaT</td>\n",
       "      <td>Noise</td>\n",
       "      <td>Loud Music/Party</td>\n",
       "      <td>Street/Sidewalk</td>\n",
       "      <td>NaN</td>\n",
       "      <td>NaN</td>\n",
       "      <td>NaN</td>\n",
       "      <td>Your complaint has been forwarded to the New Y...</td>\n",
       "      <td>Unspecified</td>\n",
       "      <td>NaN</td>\n",
       "      <td>NaN</td>\n",
       "      <td>9</td>\n",
       "      <td>12</td>\n",
       "      <td>Winter</td>\n",
       "      <td>NaN</td>\n",
       "      <td>Street/Sidewalk</td>\n",
       "    </tr>\n",
       "    <tr>\n",
       "      <th>1421</th>\n",
       "      <td>32299438</td>\n",
       "      <td>2015-12-30 11:55:25</td>\n",
       "      <td>2015-12-30 14:35:54</td>\n",
       "      <td>Illegal Parking</td>\n",
       "      <td>Blocked Sidewalk</td>\n",
       "      <td>Street/Sidewalk</td>\n",
       "      <td>NaN</td>\n",
       "      <td>NaN</td>\n",
       "      <td>NaN</td>\n",
       "      <td>The Police Department responded to the complai...</td>\n",
       "      <td>Unspecified</td>\n",
       "      <td>NaN</td>\n",
       "      <td>NaN</td>\n",
       "      <td>11</td>\n",
       "      <td>12</td>\n",
       "      <td>Winter</td>\n",
       "      <td>160</td>\n",
       "      <td>NaN</td>\n",
       "    </tr>\n",
       "    <tr>\n",
       "      <th>1648</th>\n",
       "      <td>32303348</td>\n",
       "      <td>2015-12-30 05:13:42</td>\n",
       "      <td>NaT</td>\n",
       "      <td>Illegal Parking</td>\n",
       "      <td>Commercial Overnight Parking</td>\n",
       "      <td>Street/Sidewalk</td>\n",
       "      <td>NaN</td>\n",
       "      <td>NaN</td>\n",
       "      <td>NaN</td>\n",
       "      <td>Your complaint has been forwarded to the New Y...</td>\n",
       "      <td>Unspecified</td>\n",
       "      <td>NaN</td>\n",
       "      <td>NaN</td>\n",
       "      <td>5</td>\n",
       "      <td>12</td>\n",
       "      <td>Winter</td>\n",
       "      <td>NaN</td>\n",
       "      <td>NaN</td>\n",
       "    </tr>\n",
       "    <tr>\n",
       "      <th>1816</th>\n",
       "      <td>32294519</td>\n",
       "      <td>2015-12-29 22:44:50</td>\n",
       "      <td>NaT</td>\n",
       "      <td>Derelict Vehicle</td>\n",
       "      <td>With License Plate</td>\n",
       "      <td>Street/Sidewalk</td>\n",
       "      <td>NaN</td>\n",
       "      <td>NaN</td>\n",
       "      <td>NaN</td>\n",
       "      <td>Your complaint has been forwarded to the New Y...</td>\n",
       "      <td>Unspecified</td>\n",
       "      <td>NaN</td>\n",
       "      <td>NaN</td>\n",
       "      <td>22</td>\n",
       "      <td>12</td>\n",
       "      <td>Winter</td>\n",
       "      <td>NaN</td>\n",
       "      <td>NaN</td>\n",
       "    </tr>\n",
       "    <tr>\n",
       "      <th>1965</th>\n",
       "      <td>32296487</td>\n",
       "      <td>2015-12-29 19:09:13</td>\n",
       "      <td>NaT</td>\n",
       "      <td>Derelict Vehicle</td>\n",
       "      <td>With License Plate</td>\n",
       "      <td>Street/Sidewalk</td>\n",
       "      <td>NaN</td>\n",
       "      <td>NaN</td>\n",
       "      <td>NaN</td>\n",
       "      <td>Your complaint has been forwarded to the New Y...</td>\n",
       "      <td>Unspecified</td>\n",
       "      <td>NaN</td>\n",
       "      <td>NaN</td>\n",
       "      <td>19</td>\n",
       "      <td>12</td>\n",
       "      <td>Winter</td>\n",
       "      <td>NaN</td>\n",
       "      <td>NaN</td>\n",
       "    </tr>\n",
       "    <tr>\n",
       "      <th>1987</th>\n",
       "      <td>32293372</td>\n",
       "      <td>2015-12-29 18:31:39</td>\n",
       "      <td>NaT</td>\n",
       "      <td>Illegal Parking</td>\n",
       "      <td>Commercial Overnight Parking</td>\n",
       "      <td>Street/Sidewalk</td>\n",
       "      <td>NaN</td>\n",
       "      <td>NaN</td>\n",
       "      <td>NaN</td>\n",
       "      <td>Your complaint has been forwarded to the New Y...</td>\n",
       "      <td>Unspecified</td>\n",
       "      <td>NaN</td>\n",
       "      <td>NaN</td>\n",
       "      <td>18</td>\n",
       "      <td>12</td>\n",
       "      <td>Winter</td>\n",
       "      <td>NaN</td>\n",
       "      <td>NaN</td>\n",
       "    </tr>\n",
       "  </tbody>\n",
       "</table>\n",
       "</div>"
      ],
      "text/plain": [
       "      unique_key        created_date         closed_date    complaint_type  \\\n",
       "33      32306700 2015-12-31 23:18:10 2016-01-02 01:04:03   Illegal Parking   \n",
       "283     32309451 2015-12-31 17:40:16 2016-01-01 10:59:11   Illegal Parking   \n",
       "302     32309860 2015-12-31 17:05:30 2016-01-01 08:17:35  Blocked Driveway   \n",
       "416     32305700 2015-12-31 14:16:04                 NaT   Illegal Parking   \n",
       "611     32309308 2015-12-31 09:58:06                 NaT             Noise   \n",
       "1421    32299438 2015-12-30 11:55:25 2015-12-30 14:35:54   Illegal Parking   \n",
       "1648    32303348 2015-12-30 05:13:42                 NaT   Illegal Parking   \n",
       "1816    32294519 2015-12-29 22:44:50                 NaT  Derelict Vehicle   \n",
       "1965    32296487 2015-12-29 19:09:13                 NaT  Derelict Vehicle   \n",
       "1987    32293372 2015-12-29 18:31:39                 NaT   Illegal Parking   \n",
       "\n",
       "               complaint_description    location_type  incident_zip  \\\n",
       "33    Double Parked Blocking Traffic  Street/Sidewalk           NaN   \n",
       "283                  Blocked Hydrant  Street/Sidewalk           NaN   \n",
       "302                   Partial Access  Street/Sidewalk           NaN   \n",
       "416    Posted Parking Sign Violation  Street/Sidewalk           NaN   \n",
       "611                 Loud Music/Party  Street/Sidewalk           NaN   \n",
       "1421                Blocked Sidewalk  Street/Sidewalk           NaN   \n",
       "1648    Commercial Overnight Parking  Street/Sidewalk           NaN   \n",
       "1816              With License Plate  Street/Sidewalk           NaN   \n",
       "1965              With License Plate  Street/Sidewalk           NaN   \n",
       "1987    Commercial Overnight Parking  Street/Sidewalk           NaN   \n",
       "\n",
       "     address_type city                             resolution_description  \\\n",
       "33            NaN  NaN  The Police Department issued a summons in resp...   \n",
       "283           NaN  NaN  The Police Department issued a summons in resp...   \n",
       "302           NaN  NaN  The Police Department responded to the complai...   \n",
       "416           NaN  NaN  Your complaint has been forwarded to the New Y...   \n",
       "611           NaN  NaN  Your complaint has been forwarded to the New Y...   \n",
       "1421          NaN  NaN  The Police Department responded to the complai...   \n",
       "1648          NaN  NaN  Your complaint has been forwarded to the New Y...   \n",
       "1816          NaN  NaN  Your complaint has been forwarded to the New Y...   \n",
       "1965          NaN  NaN  Your complaint has been forwarded to the New Y...   \n",
       "1987          NaN  NaN  Your complaint has been forwarded to the New Y...   \n",
       "\n",
       "          borough  latitude  longitude  hour  month  season  \\\n",
       "33    Unspecified       NaN        NaN    23     12  Winter   \n",
       "283   Unspecified       NaN        NaN    17     12  Winter   \n",
       "302   Unspecified       NaN        NaN    17     12  Winter   \n",
       "416   Unspecified       NaN        NaN    14     12  Winter   \n",
       "611   Unspecified       NaN        NaN     9     12  Winter   \n",
       "1421  Unspecified       NaN        NaN    11     12  Winter   \n",
       "1648  Unspecified       NaN        NaN     5     12  Winter   \n",
       "1816  Unspecified       NaN        NaN    22     12  Winter   \n",
       "1965  Unspecified       NaN        NaN    19     12  Winter   \n",
       "1987  Unspecified       NaN        NaN    18     12  Winter   \n",
       "\n",
       "      resolution_time_m       noise_type  \n",
       "33                 1545              NaN  \n",
       "283                1038              NaN  \n",
       "302                 912              NaN  \n",
       "416                 NaN              NaN  \n",
       "611                 NaN  Street/Sidewalk  \n",
       "1421                160              NaN  \n",
       "1648                NaN              NaN  \n",
       "1816                NaN              NaN  \n",
       "1965                NaN              NaN  \n",
       "1987                NaN              NaN  "
      ]
     },
     "execution_count": 19,
     "metadata": {},
     "output_type": "execute_result"
    }
   ],
   "source": [
    "requests[requests['borough'] == 'Unspecified'].head(10)"
   ]
  },
  {
   "cell_type": "markdown",
   "metadata": {},
   "source": [
    "These ~3,000 rows contain a number of missing values in other columns, and represent a relatively small portion of our total 364,000+ rows, so they will be excluded from our dataset."
   ]
  },
  {
   "cell_type": "code",
   "execution_count": 20,
   "metadata": {
    "collapsed": false
   },
   "outputs": [
    {
     "data": {
      "text/plain": [
       "(361600, 18)"
      ]
     },
     "execution_count": 20,
     "metadata": {},
     "output_type": "execute_result"
    }
   ],
   "source": [
    "requests = requests[requests['borough'] != 'Unspecified']\n",
    "requests.shape"
   ]
  },
  {
   "cell_type": "markdown",
   "metadata": {},
   "source": [
    "Let's see how many null values that leaves us with."
   ]
  },
  {
   "cell_type": "code",
   "execution_count": 21,
   "metadata": {
    "collapsed": false
   },
   "outputs": [
    {
     "data": {
      "text/plain": [
       "unique_key                     0\n",
       "created_date                   0\n",
       "closed_date                   58\n",
       "complaint_type                 0\n",
       "complaint_description       6493\n",
       "location_type                122\n",
       "incident_zip                  41\n",
       "address_type                 295\n",
       "city                          41\n",
       "resolution_description         0\n",
       "borough                        0\n",
       "latitude                    1073\n",
       "longitude                   1073\n",
       "hour                           0\n",
       "month                          0\n",
       "season                         0\n",
       "resolution_time_m             58\n",
       "noise_type                242380\n",
       "dtype: int64"
      ]
     },
     "execution_count": 21,
     "metadata": {},
     "output_type": "execute_result"
    }
   ],
   "source": [
    "requests.isnull().sum()"
   ]
  },
  {
   "cell_type": "markdown",
   "metadata": {},
   "source": [
    "We can drop the remaining 41 rows that have null values for 'city'."
   ]
  },
  {
   "cell_type": "code",
   "execution_count": 22,
   "metadata": {
    "collapsed": false
   },
   "outputs": [],
   "source": [
    "requests = requests.dropna(subset=['city'])"
   ]
  },
  {
   "cell_type": "markdown",
   "metadata": {},
   "source": [
    "Now let's take a look at the rows with null values for the 'closed_date' column."
   ]
  },
  {
   "cell_type": "code",
   "execution_count": 23,
   "metadata": {
    "collapsed": false
   },
   "outputs": [
    {
     "data": {
      "text/html": [
       "<div>\n",
       "<table border=\"1\" class=\"dataframe\">\n",
       "  <thead>\n",
       "    <tr style=\"text-align: right;\">\n",
       "      <th></th>\n",
       "      <th>unique_key</th>\n",
       "      <th>created_date</th>\n",
       "      <th>closed_date</th>\n",
       "      <th>complaint_type</th>\n",
       "      <th>complaint_description</th>\n",
       "      <th>location_type</th>\n",
       "      <th>incident_zip</th>\n",
       "      <th>address_type</th>\n",
       "      <th>city</th>\n",
       "      <th>resolution_description</th>\n",
       "      <th>borough</th>\n",
       "      <th>latitude</th>\n",
       "      <th>longitude</th>\n",
       "      <th>hour</th>\n",
       "      <th>month</th>\n",
       "      <th>season</th>\n",
       "      <th>resolution_time_m</th>\n",
       "      <th>noise_type</th>\n",
       "    </tr>\n",
       "  </thead>\n",
       "  <tbody>\n",
       "    <tr>\n",
       "      <th>2149</th>\n",
       "      <td>32290742</td>\n",
       "      <td>2015-12-29 14:27:24</td>\n",
       "      <td>NaT</td>\n",
       "      <td>Blocked Driveway</td>\n",
       "      <td>No Access</td>\n",
       "      <td>Street/Sidewalk</td>\n",
       "      <td>10016</td>\n",
       "      <td>ADDRESS</td>\n",
       "      <td>NEW YORK</td>\n",
       "      <td>The Police Department responded to the complai...</td>\n",
       "      <td>MANHATTAN</td>\n",
       "      <td>40.742854</td>\n",
       "      <td>-73.979134</td>\n",
       "      <td>14</td>\n",
       "      <td>12</td>\n",
       "      <td>Winter</td>\n",
       "      <td>NaN</td>\n",
       "      <td>NaN</td>\n",
       "    </tr>\n",
       "    <tr>\n",
       "      <th>4715</th>\n",
       "      <td>32276857</td>\n",
       "      <td>2015-12-26 15:27:13</td>\n",
       "      <td>NaT</td>\n",
       "      <td>Illegal Parking</td>\n",
       "      <td>Blocked Hydrant</td>\n",
       "      <td>Street/Sidewalk</td>\n",
       "      <td>10019</td>\n",
       "      <td>ADDRESS</td>\n",
       "      <td>NEW YORK</td>\n",
       "      <td>Your complaint has been forwarded to the New Y...</td>\n",
       "      <td>MANHATTAN</td>\n",
       "      <td>40.763425</td>\n",
       "      <td>-73.990766</td>\n",
       "      <td>15</td>\n",
       "      <td>12</td>\n",
       "      <td>Winter</td>\n",
       "      <td>NaN</td>\n",
       "      <td>NaN</td>\n",
       "    </tr>\n",
       "    <tr>\n",
       "      <th>9714</th>\n",
       "      <td>32242018</td>\n",
       "      <td>2015-12-20 22:53:09</td>\n",
       "      <td>NaT</td>\n",
       "      <td>Noise</td>\n",
       "      <td>Loud Music/Party</td>\n",
       "      <td>Store/Commercial</td>\n",
       "      <td>11221</td>\n",
       "      <td>ADDRESS</td>\n",
       "      <td>BROOKLYN</td>\n",
       "      <td>The Police Department responded to the complai...</td>\n",
       "      <td>BROOKLYN</td>\n",
       "      <td>40.696223</td>\n",
       "      <td>-73.933916</td>\n",
       "      <td>22</td>\n",
       "      <td>12</td>\n",
       "      <td>Winter</td>\n",
       "      <td>NaN</td>\n",
       "      <td>Commercial</td>\n",
       "    </tr>\n",
       "    <tr>\n",
       "      <th>12938</th>\n",
       "      <td>32223714</td>\n",
       "      <td>2015-12-17 18:46:39</td>\n",
       "      <td>NaT</td>\n",
       "      <td>Derelict Vehicle</td>\n",
       "      <td>With License Plate</td>\n",
       "      <td>Street/Sidewalk</td>\n",
       "      <td>10470</td>\n",
       "      <td>ADDRESS</td>\n",
       "      <td>BRONX</td>\n",
       "      <td>Your complaint has been forwarded to the New Y...</td>\n",
       "      <td>BRONX</td>\n",
       "      <td>40.901292</td>\n",
       "      <td>-73.864931</td>\n",
       "      <td>18</td>\n",
       "      <td>12</td>\n",
       "      <td>Winter</td>\n",
       "      <td>NaN</td>\n",
       "      <td>NaN</td>\n",
       "    </tr>\n",
       "    <tr>\n",
       "      <th>16703</th>\n",
       "      <td>32193279</td>\n",
       "      <td>2015-12-13 22:24:59</td>\n",
       "      <td>NaT</td>\n",
       "      <td>Noise</td>\n",
       "      <td>Loud Talking</td>\n",
       "      <td>Store/Commercial</td>\n",
       "      <td>10472</td>\n",
       "      <td>ADDRESS</td>\n",
       "      <td>BRONX</td>\n",
       "      <td>Your complaint has been forwarded to the New Y...</td>\n",
       "      <td>BRONX</td>\n",
       "      <td>40.830362</td>\n",
       "      <td>-73.866022</td>\n",
       "      <td>22</td>\n",
       "      <td>12</td>\n",
       "      <td>Winter</td>\n",
       "      <td>NaN</td>\n",
       "      <td>Commercial</td>\n",
       "    </tr>\n",
       "    <tr>\n",
       "      <th>17558</th>\n",
       "      <td>32190330</td>\n",
       "      <td>2015-12-13 02:07:52</td>\n",
       "      <td>NaT</td>\n",
       "      <td>Noise</td>\n",
       "      <td>Loud Music/Party</td>\n",
       "      <td>Street/Sidewalk</td>\n",
       "      <td>10451</td>\n",
       "      <td>ADDRESS</td>\n",
       "      <td>BRONX</td>\n",
       "      <td>The Police Department responded to the complai...</td>\n",
       "      <td>BRONX</td>\n",
       "      <td>40.820065</td>\n",
       "      <td>-73.920930</td>\n",
       "      <td>2</td>\n",
       "      <td>12</td>\n",
       "      <td>Winter</td>\n",
       "      <td>NaN</td>\n",
       "      <td>Street/Sidewalk</td>\n",
       "    </tr>\n",
       "    <tr>\n",
       "      <th>18513</th>\n",
       "      <td>32186590</td>\n",
       "      <td>2015-12-12 14:47:35</td>\n",
       "      <td>NaT</td>\n",
       "      <td>Noise</td>\n",
       "      <td>Loud Music/Party</td>\n",
       "      <td>Street/Sidewalk</td>\n",
       "      <td>10026</td>\n",
       "      <td>LATLONG</td>\n",
       "      <td>NEW YORK</td>\n",
       "      <td>Your complaint has been forwarded to the New Y...</td>\n",
       "      <td>MANHATTAN</td>\n",
       "      <td>40.802855</td>\n",
       "      <td>-73.954767</td>\n",
       "      <td>14</td>\n",
       "      <td>12</td>\n",
       "      <td>Winter</td>\n",
       "      <td>NaN</td>\n",
       "      <td>Street/Sidewalk</td>\n",
       "    </tr>\n",
       "    <tr>\n",
       "      <th>18945</th>\n",
       "      <td>32184523</td>\n",
       "      <td>2015-12-12 04:31:29</td>\n",
       "      <td>NaT</td>\n",
       "      <td>Blocked Driveway</td>\n",
       "      <td>No Access</td>\n",
       "      <td>Street/Sidewalk</td>\n",
       "      <td>11418</td>\n",
       "      <td>ADDRESS</td>\n",
       "      <td>RICHMOND HILL</td>\n",
       "      <td>Your complaint has been forwarded to the New Y...</td>\n",
       "      <td>QUEENS</td>\n",
       "      <td>40.696911</td>\n",
       "      <td>-73.841103</td>\n",
       "      <td>4</td>\n",
       "      <td>12</td>\n",
       "      <td>Winter</td>\n",
       "      <td>NaN</td>\n",
       "      <td>NaN</td>\n",
       "    </tr>\n",
       "    <tr>\n",
       "      <th>20759</th>\n",
       "      <td>32171861</td>\n",
       "      <td>2015-12-10 17:49:27</td>\n",
       "      <td>NaT</td>\n",
       "      <td>Noise</td>\n",
       "      <td>Loud Talking</td>\n",
       "      <td>Street/Sidewalk</td>\n",
       "      <td>10472</td>\n",
       "      <td>INTERSECTION</td>\n",
       "      <td>BRONX</td>\n",
       "      <td>Your complaint has been forwarded to the New Y...</td>\n",
       "      <td>BRONX</td>\n",
       "      <td>40.829931</td>\n",
       "      <td>-73.865914</td>\n",
       "      <td>17</td>\n",
       "      <td>12</td>\n",
       "      <td>Winter</td>\n",
       "      <td>NaN</td>\n",
       "      <td>Street/Sidewalk</td>\n",
       "    </tr>\n",
       "    <tr>\n",
       "      <th>20804</th>\n",
       "      <td>32171381</td>\n",
       "      <td>2015-12-10 17:03:14</td>\n",
       "      <td>NaT</td>\n",
       "      <td>Illegal Parking</td>\n",
       "      <td>Double Parked Blocking Traffic</td>\n",
       "      <td>Street/Sidewalk</td>\n",
       "      <td>10009</td>\n",
       "      <td>LATLONG</td>\n",
       "      <td>NEW YORK</td>\n",
       "      <td>Your complaint has been forwarded to the New Y...</td>\n",
       "      <td>MANHATTAN</td>\n",
       "      <td>40.720113</td>\n",
       "      <td>-73.976948</td>\n",
       "      <td>17</td>\n",
       "      <td>12</td>\n",
       "      <td>Winter</td>\n",
       "      <td>NaN</td>\n",
       "      <td>NaN</td>\n",
       "    </tr>\n",
       "  </tbody>\n",
       "</table>\n",
       "</div>"
      ],
      "text/plain": [
       "       unique_key        created_date closed_date    complaint_type  \\\n",
       "2149     32290742 2015-12-29 14:27:24         NaT  Blocked Driveway   \n",
       "4715     32276857 2015-12-26 15:27:13         NaT   Illegal Parking   \n",
       "9714     32242018 2015-12-20 22:53:09         NaT             Noise   \n",
       "12938    32223714 2015-12-17 18:46:39         NaT  Derelict Vehicle   \n",
       "16703    32193279 2015-12-13 22:24:59         NaT             Noise   \n",
       "17558    32190330 2015-12-13 02:07:52         NaT             Noise   \n",
       "18513    32186590 2015-12-12 14:47:35         NaT             Noise   \n",
       "18945    32184523 2015-12-12 04:31:29         NaT  Blocked Driveway   \n",
       "20759    32171861 2015-12-10 17:49:27         NaT             Noise   \n",
       "20804    32171381 2015-12-10 17:03:14         NaT   Illegal Parking   \n",
       "\n",
       "                complaint_description     location_type  incident_zip  \\\n",
       "2149                        No Access   Street/Sidewalk         10016   \n",
       "4715                  Blocked Hydrant   Street/Sidewalk         10019   \n",
       "9714                 Loud Music/Party  Store/Commercial         11221   \n",
       "12938              With License Plate   Street/Sidewalk         10470   \n",
       "16703                    Loud Talking  Store/Commercial         10472   \n",
       "17558                Loud Music/Party   Street/Sidewalk         10451   \n",
       "18513                Loud Music/Party   Street/Sidewalk         10026   \n",
       "18945                       No Access   Street/Sidewalk         11418   \n",
       "20759                    Loud Talking   Street/Sidewalk         10472   \n",
       "20804  Double Parked Blocking Traffic   Street/Sidewalk         10009   \n",
       "\n",
       "       address_type           city  \\\n",
       "2149        ADDRESS       NEW YORK   \n",
       "4715        ADDRESS       NEW YORK   \n",
       "9714        ADDRESS       BROOKLYN   \n",
       "12938       ADDRESS          BRONX   \n",
       "16703       ADDRESS          BRONX   \n",
       "17558       ADDRESS          BRONX   \n",
       "18513       LATLONG       NEW YORK   \n",
       "18945       ADDRESS  RICHMOND HILL   \n",
       "20759  INTERSECTION          BRONX   \n",
       "20804       LATLONG       NEW YORK   \n",
       "\n",
       "                                  resolution_description    borough  \\\n",
       "2149   The Police Department responded to the complai...  MANHATTAN   \n",
       "4715   Your complaint has been forwarded to the New Y...  MANHATTAN   \n",
       "9714   The Police Department responded to the complai...   BROOKLYN   \n",
       "12938  Your complaint has been forwarded to the New Y...      BRONX   \n",
       "16703  Your complaint has been forwarded to the New Y...      BRONX   \n",
       "17558  The Police Department responded to the complai...      BRONX   \n",
       "18513  Your complaint has been forwarded to the New Y...  MANHATTAN   \n",
       "18945  Your complaint has been forwarded to the New Y...     QUEENS   \n",
       "20759  Your complaint has been forwarded to the New Y...      BRONX   \n",
       "20804  Your complaint has been forwarded to the New Y...  MANHATTAN   \n",
       "\n",
       "        latitude  longitude  hour  month  season  resolution_time_m  \\\n",
       "2149   40.742854 -73.979134    14     12  Winter                NaN   \n",
       "4715   40.763425 -73.990766    15     12  Winter                NaN   \n",
       "9714   40.696223 -73.933916    22     12  Winter                NaN   \n",
       "12938  40.901292 -73.864931    18     12  Winter                NaN   \n",
       "16703  40.830362 -73.866022    22     12  Winter                NaN   \n",
       "17558  40.820065 -73.920930     2     12  Winter                NaN   \n",
       "18513  40.802855 -73.954767    14     12  Winter                NaN   \n",
       "18945  40.696911 -73.841103     4     12  Winter                NaN   \n",
       "20759  40.829931 -73.865914    17     12  Winter                NaN   \n",
       "20804  40.720113 -73.976948    17     12  Winter                NaN   \n",
       "\n",
       "            noise_type  \n",
       "2149               NaN  \n",
       "4715               NaN  \n",
       "9714        Commercial  \n",
       "12938              NaN  \n",
       "16703       Commercial  \n",
       "17558  Street/Sidewalk  \n",
       "18513  Street/Sidewalk  \n",
       "18945              NaN  \n",
       "20759  Street/Sidewalk  \n",
       "20804              NaN  "
      ]
     },
     "execution_count": 23,
     "metadata": {},
     "output_type": "execute_result"
    }
   ],
   "source": [
    "requests[requests[\"closed_date\"].isnull()].head(10)"
   ]
  },
  {
   "cell_type": "markdown",
   "metadata": {},
   "source": [
    "There aren't any obvious hints as to why these don't have a closed date, and it's quite possible that it's due to a clerical error. Since there are so few rows that are affected, we will drop them from the dataset instead of filling them with any values."
   ]
  },
  {
   "cell_type": "code",
   "execution_count": 24,
   "metadata": {
    "collapsed": false
   },
   "outputs": [
    {
     "data": {
      "text/plain": [
       "unique_key                     0\n",
       "created_date                   0\n",
       "closed_date                    0\n",
       "complaint_type                 0\n",
       "complaint_description       6492\n",
       "location_type                122\n",
       "incident_zip                   3\n",
       "address_type                 292\n",
       "city                           0\n",
       "resolution_description         0\n",
       "borough                        0\n",
       "latitude                    1073\n",
       "longitude                   1073\n",
       "hour                           0\n",
       "month                          0\n",
       "season                         0\n",
       "resolution_time_m              0\n",
       "noise_type                242347\n",
       "dtype: int64"
      ]
     },
     "execution_count": 24,
     "metadata": {},
     "output_type": "execute_result"
    }
   ],
   "source": [
    "requests = requests.dropna(subset=['closed_date'])\n",
    "requests.isnull().sum()"
   ]
  },
  {
   "cell_type": "markdown",
   "metadata": {},
   "source": [
    "For now we will leave the remaining null values/rows in place, and can delete of fill them later if our analysis requires it."
   ]
  },
  {
   "cell_type": "markdown",
   "metadata": {},
   "source": [
    "## Trends Over Time - Season, Month, Hour of the Day"
   ]
  },
  {
   "cell_type": "markdown",
   "metadata": {
    "collapsed": true
   },
   "source": [
    "Now that our data has been imported and cleaned up, we're ready to begin our analysis.  Let's start with the first question: Are there trends by season? By month? By hour of the day? \n",
    "\n",
    "Our first step is to group the complaints by season, and then plot them to look for any trends."
   ]
  },
  {
   "cell_type": "code",
   "execution_count": 25,
   "metadata": {
    "collapsed": false
   },
   "outputs": [],
   "source": [
    "import matplotlib.pyplot as plt\n",
    "from numpy import arange #importing this so that we can position bars in our bar charts\n",
    "%matplotlib inline\n",
    "\n",
    "complaints_by_season = requests.groupby('season').size().to_frame('total')"
   ]
  },
  {
   "cell_type": "code",
   "execution_count": 26,
   "metadata": {
    "collapsed": false
   },
   "outputs": [
    {
     "data": {
      "image/png": "[encoded data removed]",
      "text/plain": [
       "<matplotlib.figure.Figure at 0x105ca6d90>"
      ]
     },
     "metadata": {},
     "output_type": "display_data"
    }
   ],
   "source": [
    "seasons = ['Winter', 'Spring', 'Summer', 'Autumn'] #for use in setting xtick labels\n",
    "#Using .loc[] below to set the order of the bars in our chart so that they appear in chronological order instead of \n",
    "#alphabetical order.\n",
    "totals = complaints_by_season['total'].loc(axis=0)['Winter', 'Spring', 'Summer', 'Autumn'].values\n",
    "bar_positions = arange(4) + 0.7\n",
    "\n",
    "fig, ax = plt.subplots(figsize=(8,6))\n",
    "ax.bar(bar_positions, totals, 0.6, color='#03719c')\n",
    "ax.set_xticks(range(1,5))\n",
    "ax.set_xticklabels(seasons)\n",
    "ax.tick_params(bottom='off', top='off', left='off', right='off')\n",
    "\n",
    "plt.xlabel('Season', fontdict = {'fontsize' : 12})\n",
    "plt.ylabel('No. of Requests', fontdict = {'fontsize' : 12})\n",
    "plt.title('Number of 311 Requests per Season', fontdict = {'fontsize' : 15});"
   ]
  },
  {
   "cell_type": "markdown",
   "metadata": {},
   "source": [
    "From this quick graph we can see that there are the fewest 311 requests in the winter, and the most in summer, but it would be much more helpful to see if there are trends in complaint *type* per season. \n",
    "\n",
    "From our earlier examination of the data, we know that there are five types of complaints that account for 95 percent of 311 requests: noise, blocked driveway, illegal parking, derelict vehicle, and animal abuse. In order to make things a bit easier to plot and analyze, we will limit our dataset to those five complaint types."
   ]
  },
  {
   "cell_type": "code",
   "execution_count": 27,
   "metadata": {
    "collapsed": false
   },
   "outputs": [],
   "source": [
    "top_complaints = ['Noise', 'Blocked Driveway', 'Illegal Parking', 'Derelict Vehicle', 'Animal Abuse']\n",
    "top_requests = requests[requests.complaint_type.isin(top_complaints)]"
   ]
  },
  {
   "cell_type": "markdown",
   "metadata": {},
   "source": [
    "Now we will group the new dataset by season, and then pivot the result so that it is more conducive to plotting."
   ]
  },
  {
   "cell_type": "code",
   "execution_count": 28,
   "metadata": {
    "collapsed": false
   },
   "outputs": [],
   "source": [
    "grouped = top_requests.groupby(['season', 'complaint_type']).size().to_frame('total').reset_index()\n",
    "grouped_pivot = grouped.pivot(index='season', columns='complaint_type', values='total')"
   ]
  },
  {
   "cell_type": "markdown",
   "metadata": {},
   "source": [
    "Now we are ready to plot these results to see if there are any trends that stand out."
   ]
  },
  {
   "cell_type": "code",
   "execution_count": 29,
   "metadata": {
    "collapsed": false
   },
   "outputs": [
    {
     "data": {
      "image/png": "[encoded data removed]",
      "text/plain": [
       "<matplotlib.figure.Figure at 0x1094e7390>"
      ]
     },
     "metadata": {},
     "output_type": "display_data"
    }
   ],
   "source": [
    "fig, ax = plt.subplots(figsize=(10,9))\n",
    "\n",
    "#The following list of labels will be used to set the layering of the stacked bar chart. The order was determined \n",
    "#by looking at the list of value counts for the complaint_type field in our earlier data cleaning.\n",
    "labels = ['Animal Abuse','Derelict Vehicle', 'Illegal Parking', 'Blocked Driveway', 'Noise']\n",
    "colors = ['#fdd291', '#6ea4cc', '#437092', '#ffb322', '#517dc7']\n",
    "width = 0.6\n",
    "\n",
    "prevBar = 0\n",
    "for index, label in enumerate(labels):\n",
    "    values = grouped_pivot[label].loc(axis=0)['Winter', 'Spring', 'Summer', 'Autumn'].values\n",
    "    ax.bar(\n",
    "        bar_positions, values, width, \n",
    "        label=labels[index], color=colors[index], bottom=prevBar\n",
    "    )\n",
    "    prevBar += values \n",
    "\n",
    "ax.set_xticks(range(1,5))\n",
    "ax.set_xticklabels(seasons)\n",
    "ax.tick_params(bottom='off', top='off', left='off', right='off')\n",
    "\n",
    "#The following two lines of code set the order of the entries in the legend so that they match the order in which\n",
    "#they appear in the stacked bar graph.\n",
    "handles, labels = ax.get_legend_handles_labels()\n",
    "ax.legend(reversed(handles), reversed(labels), loc='upper left')\n",
    "\n",
    "plt.xlabel('Season', fontdict = {'fontsize' : 12})\n",
    "plt.ylabel('No. of Requests', fontdict = {'fontsize' : 12})\n",
    "plt.title('Most Frequent Requests Types - Total per Season', fontdict = {'fontsize' : 15});"
   ]
  },
  {
   "cell_type": "markdown",
   "metadata": {},
   "source": [
    "The main thing that this chart reveals is that there are significantly more noise complaints in the summer than there are in the winter. This is perhaps unsurprising, given that more people are outside in public spaces in warmer weather. When more people are out, it usually also means that there are people doing things like playing music that might cause someone to call in a noise complaint. \n",
    "\n",
    "This chart also show that there are more blocked driveway complaints in the winter and autumn. "
   ]
  },
  {
   "cell_type": "markdown",
   "metadata": {},
   "source": [
    "## Future Updates"
   ]
  },
  {
   "cell_type": "markdown",
   "metadata": {},
   "source": [
    "The next update to this project will focus on analyzing complaints by month and complaints by hour of the day.\n",
    "\n",
    "Later, we will turn to the remaining questions from the list that was initially posed:\n",
    "* Are there geographic trends for complaint type (i.e. trends by borough)?\n",
    "* How long, on average, does it take to close a request? Does that vary by borough? By complaint type?\n",
    "* Are there any trends with how these service requests are resolved?"
   ]
  }
 ],
 "metadata": {
  "kernelspec": {
   "display_name": "Python 2",
   "language": "python",
   "name": "python2"
  },
  "language_info": {
   "codemirror_mode": {
    "name": "ipython",
    "version": 2
   },
   "file_extension": ".py",
   "mimetype": "text/x-python",
   "name": "python",
   "nbconvert_exporter": "python",
   "pygments_lexer": "ipython2",
   "version": "2.7.10"
  }
 },
 "nbformat": 4,
 "nbformat_minor": 0
}
